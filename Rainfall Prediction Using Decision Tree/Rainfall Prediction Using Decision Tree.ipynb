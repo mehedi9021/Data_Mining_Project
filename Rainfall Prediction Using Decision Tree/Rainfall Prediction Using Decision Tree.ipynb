{
 "cells": [
  {
   "cell_type": "code",
   "execution_count": 69,
   "metadata": {
    "executionInfo": {
     "elapsed": 1013,
     "status": "ok",
     "timestamp": 1601325093188,
     "user": {
      "displayName": "Md. Mehedi Hasan",
      "photoUrl": "https://lh3.googleusercontent.com/a-/AOh14GhPqz15zA-DUYA7QOqPHnBFbORp4NwzmYoyBVDrBQ=s64",
      "userId": "13157265936034671776"
     },
     "user_tz": -360
    },
    "id": "S5eOKj4fHYLU"
   },
   "outputs": [],
   "source": [
    "import pandas as pd\n",
    "from sklearn import tree\n",
    "import pydotplus\n",
    "from sklearn.tree import DecisionTreeClassifier\n",
    "import matplotlib.pyplot as plt\n",
    "import matplotlib.image as pltimg\n",
    "import numpy as np"
   ]
  },
  {
   "cell_type": "code",
   "execution_count": 70,
   "metadata": {
    "colab": {
     "base_uri": "https://localhost:8080/",
     "height": 34
    },
    "executionInfo": {
     "elapsed": 634,
     "status": "ok",
     "timestamp": 1601325094449,
     "user": {
      "displayName": "Md. Mehedi Hasan",
      "photoUrl": "https://lh3.googleusercontent.com/a-/AOh14GhPqz15zA-DUYA7QOqPHnBFbORp4NwzmYoyBVDrBQ=s64",
      "userId": "13157265936034671776"
     },
     "user_tz": -360
    },
    "id": "34VcuMglHrXp",
    "outputId": "c2781b93-8520-4dd8-e06c-2b242e297680"
   },
   "outputs": [
    {
     "name": "stdout",
     "output_type": "stream",
     "text": [
      "Drive already mounted at /content/gdrive; to attempt to forcibly remount, call drive.mount(\"/content/gdrive\", force_remount=True).\n"
     ]
    }
   ],
   "source": [
    "from google.colab import drive\n",
    "drive.mount(\"/content/gdrive\")"
   ]
  },
  {
   "cell_type": "code",
   "execution_count": 71,
   "metadata": {
    "colab": {
     "base_uri": "https://localhost:8080/",
     "height": 255
    },
    "executionInfo": {
     "elapsed": 1093,
     "status": "ok",
     "timestamp": 1601325096252,
     "user": {
      "displayName": "Md. Mehedi Hasan",
      "photoUrl": "https://lh3.googleusercontent.com/a-/AOh14GhPqz15zA-DUYA7QOqPHnBFbORp4NwzmYoyBVDrBQ=s64",
      "userId": "13157265936034671776"
     },
     "user_tz": -360
    },
    "id": "WWFFhnB7HwHX",
    "outputId": "3469bfaf-0c27-4641-94cf-ea84be228418"
   },
   "outputs": [
    {
     "name": "stdout",
     "output_type": "stream",
     "text": [
      "       day  pressure  maxtemp  ...  rainfall  winddirection  windspeed\n",
      "0        1    1025.9     19.9  ...         1             80       26.3\n",
      "1        2    1022.0     21.7  ...         1             50       15.3\n",
      "2        3    1019.7     20.3  ...         1             40       14.2\n",
      "3        4    1018.9     22.3  ...         1             50       16.9\n",
      "4        5    1015.9     21.3  ...         1             40       13.7\n",
      "...    ...       ...      ...  ...       ...            ...        ...\n",
      "4994  4995    1005.5     33.2  ...         0             10       11.0\n",
      "4995  4996    1008.1     34.4  ...         0             10       10.7\n",
      "4996  4997    1008.1     31.7  ...         1             40       16.4\n",
      "4997  4998    1006.5     32.4  ...         0            200       12.0\n",
      "4998  4999    1006.2     31.2  ...         1            210        8.9\n",
      "\n",
      "[4999 rows x 11 columns]\n"
     ]
    }
   ],
   "source": [
    "df = pd.read_csv(\"/content/gdrive/My Drive/Colab Notebooks/weather.csv\")\n",
    "print(df)"
   ]
  },
  {
   "cell_type": "code",
   "execution_count": 72,
   "metadata": {
    "colab": {
     "base_uri": "https://localhost:8080/",
     "height": 459
    },
    "executionInfo": {
     "elapsed": 1137,
     "status": "ok",
     "timestamp": 1601325098359,
     "user": {
      "displayName": "Md. Mehedi Hasan",
      "photoUrl": "https://lh3.googleusercontent.com/a-/AOh14GhPqz15zA-DUYA7QOqPHnBFbORp4NwzmYoyBVDrBQ=s64",
      "userId": "13157265936034671776"
     },
     "user_tz": -360
    },
    "id": "JQ3iEpN0IKGe",
    "outputId": "770f0711-b12b-485b-b5e6-b836db26f35a"
   },
   "outputs": [
    {
     "name": "stdout",
     "output_type": "stream",
     "text": [
      "       day  pressure  maxtemp  ...  cloud  winddirection  windspeed\n",
      "0        1    1025.9     19.9  ...     49             80       26.3\n",
      "1        2    1022.0     21.7  ...     83             50       15.3\n",
      "2        3    1019.7     20.3  ...     91             40       14.2\n",
      "3        4    1018.9     22.3  ...     88             50       16.9\n",
      "4        5    1015.9     21.3  ...     81             40       13.7\n",
      "...    ...       ...      ...  ...    ...            ...        ...\n",
      "4994  4995    1005.5     33.2  ...     48             10       11.0\n",
      "4995  4996    1008.1     34.4  ...     22             10       10.7\n",
      "4996  4997    1008.1     31.7  ...     78             40       16.4\n",
      "4997  4998    1006.5     32.4  ...     75            200       12.0\n",
      "4998  4999    1006.2     31.2  ...     84            210        8.9\n",
      "\n",
      "[4999 rows x 10 columns]\n",
      "0       1\n",
      "1       1\n",
      "2       1\n",
      "3       1\n",
      "4       1\n",
      "       ..\n",
      "4994    0\n",
      "4995    0\n",
      "4996    1\n",
      "4997    0\n",
      "4998    1\n",
      "Name: rainfall, Length: 4999, dtype: int64\n"
     ]
    }
   ],
   "source": [
    "features = ['day', 'pressure', 'maxtemp', 'temparature', 'mintemp', 'dewpoint', 'humidity', 'cloud', 'winddirection', 'windspeed']\n",
    "X = df[features]\n",
    "y = df['rainfall']\n",
    "print(X)\n",
    "print(y)"
   ]
  },
  {
   "cell_type": "code",
   "execution_count": 73,
   "metadata": {
    "colab": {
     "base_uri": "https://localhost:8080/",
     "height": 195
    },
    "executionInfo": {
     "elapsed": 5383,
     "status": "ok",
     "timestamp": 1601325105050,
     "user": {
      "displayName": "Md. Mehedi Hasan",
      "photoUrl": "https://lh3.googleusercontent.com/a-/AOh14GhPqz15zA-DUYA7QOqPHnBFbORp4NwzmYoyBVDrBQ=s64",
      "userId": "13157265936034671776"
     },
     "user_tz": -360
    },
    "id": "sSByoxPcJxgJ",
    "outputId": "5de1537e-d0da-4e47-8fbd-8d008ffefe33"
   },
   "outputs": [
    {
     "data": {
      "image/png": "[encoded data removed]",
      "text/plain": [
       "<Figure size 432x288 with 1 Axes>"
      ]
     },
     "metadata": {
      "needs_background": "light",
      "tags": []
     },
     "output_type": "display_data"
    }
   ],
   "source": [
    "dtree = DecisionTreeClassifier()\n",
    "dtree = dtree.fit(X, y)\n",
    "data = tree.export_graphviz(dtree, out_file=None, feature_names = features)\n",
    "graph = pydotplus.graph_from_dot_data(data)\n",
    "graph.write_png('mydecisiontree.png')\n",
    "\n",
    "img=pltimg.imread('mydecisiontree.png')\n",
    "imgplot = plt.imshow(img)\n",
    "plt.show()"
   ]
  },
  {
   "cell_type": "code",
   "execution_count": 74,
   "metadata": {
    "colab": {
     "base_uri": "https://localhost:8080/",
     "height": 34
    },
    "executionInfo": {
     "elapsed": 1016,
     "status": "ok",
     "timestamp": 1601325288094,
     "user": {
      "displayName": "Md. Mehedi Hasan",
      "photoUrl": "https://lh3.googleusercontent.com/a-/AOh14GhPqz15zA-DUYA7QOqPHnBFbORp4NwzmYoyBVDrBQ=s64",
      "userId": "13157265936034671776"
     },
     "user_tz": -360
    },
    "id": "ZyfiGjoEMM6P",
    "outputId": "6b50bd9e-7730-4bf0-e969-68f817b9f0f2"
   },
   "outputs": [
    {
     "name": "stdout",
     "output_type": "stream",
     "text": [
      "[0]\n"
     ]
    }
   ],
   "source": [
    "print(dtree.predict([[5001, 107.5, 33.5, 29.5, 27.5, 25.5, 80, 88, 215, 10]]))"
   ]
  },
  {
   "cell_type": "code",
   "execution_count": null,
   "metadata": {
    "executionInfo": {
     "elapsed": 9369,
     "status": "aborted",
     "timestamp": 1601318029702,
     "user": {
      "displayName": "Md. Mehedi Hasan",
      "photoUrl": "https://lh3.googleusercontent.com/a-/AOh14GhPqz15zA-DUYA7QOqPHnBFbORp4NwzmYoyBVDrBQ=s64",
      "userId": "13157265936034671776"
     },
     "user_tz": -360
    },
    "id": "5NyAP_YGUcRh"
   },
   "outputs": [],
   "source": []
  }
 ],
 "metadata": {
  "colab": {
   "authorship_tag": "ABX9TyOf1QxrqoKxehKk0FN7CnKp",
   "collapsed_sections": [],
   "name": "DM lab1.ipynb",
   "provenance": []
  },
  "kernelspec": {
   "display_name": "Python 3",
   "language": "python",
   "name": "python3"
  },
  "language_info": {
   "codemirror_mode": {
    "name": "ipython",
    "version": 3
   },
   "file_extension": ".py",
   "mimetype": "text/x-python",
   "name": "python",
   "nbconvert_exporter": "python",
   "pygments_lexer": "ipython3",
   "version": "3.8.3"
  }
 },
 "nbformat": 4,
 "nbformat_minor": 1
}
